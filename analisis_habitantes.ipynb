{
 "cells": [
  {
   "attachments": {},
   "cell_type": "markdown",
   "metadata": {},
   "source": [
    "# Analisis CSVs Habitatnes"
   ]
  },
  {
   "attachments": {},
   "cell_type": "markdown",
   "metadata": {},
   "source": [
    "El Archivo Historico de Localidades es una base de datos de INEGI con registros de los diferentes censos y conteos que se han realizado en la Republica Mexicana desde el año 1900 a la fecha. \n"
   ]
  },
  {
   "attachments": {},
   "cell_type": "markdown",
   "metadata": {},
   "source": [
    "## Librerias y configuraciones"
   ]
  },
  {
   "cell_type": "code",
   "execution_count": 1,
   "metadata": {},
   "outputs": [],
   "source": [
    "import pandas as pd\n",
    "import numpy as np"
   ]
  },
  {
   "cell_type": "code",
   "execution_count": 2,
   "metadata": {},
   "outputs": [],
   "source": [
    "verbose = True"
   ]
  },
  {
   "attachments": {},
   "cell_type": "markdown",
   "metadata": {},
   "source": [
    "## Caracteristicas generales"
   ]
  },
  {
   "attachments": {},
   "cell_type": "markdown",
   "metadata": {},
   "source": [
    "CVE_GEOEST es el campo que comparten todas las tablas del AHL. Representa la clave geoestadistica de una localidad especifica. A veces existen problemas en su importación debido a que son solo caracteres numericos."
   ]
  },
  {
   "attachments": {},
   "cell_type": "markdown",
   "metadata": {},
   "source": [
    "Esta columna debe ser importada como texto, por eso se especifica el tipo dentro del metodo read_csv. Si se importa como numero entonces se pierde el '0' al principio de algunas claves (por ejemplo '010010001' se importará como 10010001) y se perderá el formato del campo.\n"
   ]
  },
  {
   "cell_type": "code",
   "execution_count": 3,
   "metadata": {},
   "outputs": [],
   "source": [
    "tipo_columnas = {'CVE_GEOEST': str}\n",
    "\n",
    "# Importar archivo\n",
    "habitantes = pd.read_csv('CSVs/habitantes.csv', dtype=tipo_columnas)"
   ]
  },
  {
   "cell_type": "code",
   "execution_count": 4,
   "metadata": {},
   "outputs": [],
   "source": [
    "# Para procesar la sentencia y ver los resultados hay que quitar el signo #\n",
    "# al principio de cada sentencia y correr la celda.\n",
    "\n",
    "# Información general\n",
    "\n",
    "#habitantes.memory_usage().sum() / 1_000_000  # El archivo pesa 150 megas\n",
    "#habitantes.info(show_counts = True)          # No hay valores nulos en las diferentes columnas\n",
    "#habitantes.describe()                        # Estadisticas por columna\n",
    "\n"
   ]
  },
  {
   "attachments": {},
   "cell_type": "markdown",
   "metadata": {},
   "source": [
    "CVE_GEOEST esta formada por 9 caracteres numericos. Los primeros dos representan la clave del estado ('01'), los siguientes tres caracteres representan al municipio ('001'), y los ultimos cuatro numeros representan la clave de la localidad ('0001')."
   ]
  },
  {
   "attachments": {},
   "cell_type": "markdown",
   "metadata": {},
   "source": [
    "El orden numerico de los Estados estan organizado por orden alfabetico. Los municipios y localidades no son consistentes con este criterio porque cuando se crean nuevos registros la numeración no es reiniciada. Solo hay una regla de nomenclatura para las localidades, la clave '0001' siempre representará la cabecera municipal."
   ]
  },
  {
   "cell_type": "code",
   "execution_count": 5,
   "metadata": {},
   "outputs": [
    {
     "data": {
      "text/html": [
       "<div>\n",
       "<style scoped>\n",
       "    .dataframe tbody tr th:only-of-type {\n",
       "        vertical-align: middle;\n",
       "    }\n",
       "\n",
       "    .dataframe tbody tr th {\n",
       "        vertical-align: top;\n",
       "    }\n",
       "\n",
       "    .dataframe thead th {\n",
       "        text-align: right;\n",
       "    }\n",
       "</style>\n",
       "<table border=\"1\" class=\"dataframe\">\n",
       "  <thead>\n",
       "    <tr style=\"text-align: right;\">\n",
       "      <th></th>\n",
       "      <th>CLAVE</th>\n",
       "      <th>CVE_GEOEST</th>\n",
       "      <th>EVE_CENSAL</th>\n",
       "      <th>INDICE_HAB</th>\n",
       "      <th>FUENTE</th>\n",
       "      <th>TOT_HAB</th>\n",
       "      <th>TOT_HOM</th>\n",
       "      <th>TOT_MUJ</th>\n",
       "    </tr>\n",
       "  </thead>\n",
       "  <tbody>\n",
       "    <tr>\n",
       "      <th>0</th>\n",
       "      <td>1</td>\n",
       "      <td>010010001</td>\n",
       "      <td>1940</td>\n",
       "      <td>14962331</td>\n",
       "      <td>Censo</td>\n",
       "      <td>82,234</td>\n",
       "      <td>37,821</td>\n",
       "      <td>44,413</td>\n",
       "    </tr>\n",
       "    <tr>\n",
       "      <th>1</th>\n",
       "      <td>1</td>\n",
       "      <td>010010001</td>\n",
       "      <td>1930</td>\n",
       "      <td>14962332</td>\n",
       "      <td>Censo</td>\n",
       "      <td>62,244</td>\n",
       "      <td>28,687</td>\n",
       "      <td>33,557</td>\n",
       "    </tr>\n",
       "    <tr>\n",
       "      <th>2</th>\n",
       "      <td>1</td>\n",
       "      <td>010010001</td>\n",
       "      <td>1900</td>\n",
       "      <td>14962333</td>\n",
       "      <td>Censo</td>\n",
       "      <td>35,052</td>\n",
       "      <td>16,229</td>\n",
       "      <td>18,823</td>\n",
       "    </tr>\n",
       "    <tr>\n",
       "      <th>3</th>\n",
       "      <td>1</td>\n",
       "      <td>010010001</td>\n",
       "      <td>1970</td>\n",
       "      <td>14962334</td>\n",
       "      <td>Censo</td>\n",
       "      <td>181,277</td>\n",
       "      <td>-</td>\n",
       "      <td>-</td>\n",
       "    </tr>\n",
       "    <tr>\n",
       "      <th>4</th>\n",
       "      <td>1</td>\n",
       "      <td>010010001</td>\n",
       "      <td>2005</td>\n",
       "      <td>14962335</td>\n",
       "      <td>Conteo</td>\n",
       "      <td>663,671</td>\n",
       "      <td>319,649</td>\n",
       "      <td>344,022</td>\n",
       "    </tr>\n",
       "  </tbody>\n",
       "</table>\n",
       "</div>"
      ],
      "text/plain": [
       "   CLAVE CVE_GEOEST  EVE_CENSAL  INDICE_HAB  FUENTE  TOT_HAB  TOT_HOM  TOT_MUJ\n",
       "0      1  010010001        1940    14962331   Censo   82,234   37,821   44,413\n",
       "1      1  010010001        1930    14962332   Censo   62,244   28,687   33,557\n",
       "2      1  010010001        1900    14962333   Censo   35,052   16,229   18,823\n",
       "3      1  010010001        1970    14962334   Censo  181,277        -        -\n",
       "4      1  010010001        2005    14962335  Conteo  663,671  319,649  344,022"
      ]
     },
     "execution_count": 5,
     "metadata": {},
     "output_type": "execute_result"
    }
   ],
   "source": [
    "habitantes.head()"
   ]
  },
  {
   "attachments": {},
   "cell_type": "markdown",
   "metadata": {},
   "source": [
    "La columna CLAVE tiene la misma cantidad de valores unicos que CVE_GEOEST y se pueden repetir. CLAVE tendra el mismo valor para cada CVE_GEOEST. EVE_CENSAL es un valor unico para cada uno de los registros de la tabla. "
   ]
  },
  {
   "attachments": {},
   "cell_type": "markdown",
   "metadata": {},
   "source": [
    "TOT_HAB (Total de habitantes), TOT_HOM (Total de hombres), y TOT_MUJ (Total de mujeres) contienen valores numericos que representan cantidad de personas. Hay algunos campos que no tienen información numerica, por eso el tipo de información dentro de la columna esta definido como objeto y no como numero entero. "
   ]
  },
  {
   "attachments": {},
   "cell_type": "markdown",
   "metadata": {},
   "source": [
    "Los valores unicos de FUENTE representan el tipo de evento censal."
   ]
  },
  {
   "cell_type": "code",
   "execution_count": 6,
   "metadata": {},
   "outputs": [],
   "source": [
    "#CVE_GEOEST y CLAVE\n",
    "#len(habitantes)                                 # El CSV tiene 2138702 registros\n",
    "#len(habitantes.CVE_GEOEST.unique())            # Existen 408754 claves estadisticas unicas\n",
    "#habitantes.CVE_GEOEST.value_counts().max()     # La clave que mas se repite lo hace 16 veces\n",
    "#habitantes.CVE_GEOEST.value_counts().min()     # La clave que menos se repite lo hace 1 vez\n",
    "\n",
    "#set([len(clave) for clave in habitantes.CVE_GEOEST])   # Todas las claves estan compuestas por\n",
    "                                                        # nueve caracteres\n",
    "\n",
    "\n",
    "#len((habitantes['CVE_GEOEST'] + habitantes['CLAVE'].apply(str)).unique())\n",
    "                                                # Si se concatena la columna CLAVE con CVE_GEOEST\n",
    "                                                # el numero de valores unicos es el mismo (408754). \n",
    "                                                # Esto significa que el valor de clave no varia para \n",
    "                                                # cada valor de clave geoestadistica.\n",
    "                \n",
    "#habitantes['INDICE_HAB'].is_unique             # INDICE_HAB es un valor unico para todas las localidades\n",
    "                                                # del censo. Eso significa que el valor cambia para cada \n",
    "                                                # registro.\n",
    "\n"
   ]
  },
  {
   "cell_type": "code",
   "execution_count": 7,
   "metadata": {},
   "outputs": [
    {
     "name": "stdout",
     "output_type": "stream",
     "text": [
      "Cantidad de registros en habitantes: 2138702\n",
      "\n",
      "Cantidad de valores unicos de CLAVE: 408754\n",
      "Cantidad de valores unicos de CVE_GEOEST: 408754\n",
      "Cantidad de valores unicos de EVE_CENSAL: 19\n",
      "Cantidad de valores unicos de INDICE_HAB: 2138702\n",
      "Cantidad de valores unicos de FUENTE: 2\n",
      "\n",
      "Valores unicos de EVE_CENSAL:\n",
      "\n",
      "[1940 1930 1900 1970 2005 1995 1950 2020 1960 2010 1910 2000 1980 1990\n",
      " 1921 1939 1920    2 2013]\n",
      "\n",
      "Valores unicos de FUENTE:\n",
      "\n",
      "['Censo' 'Conteo']\n",
      "\n",
      "Valores unicos de INDICE_HAB:\n",
      "\n",
      "2138702\n",
      "\n"
     ]
    }
   ],
   "source": [
    "lista_columnas = habitantes.columns.values.tolist()\n",
    "\n",
    "print(f'Cantidad de registros en habitantes: {len(habitantes)}', end = '\\n\\n')\n",
    "\n",
    "for col in lista_columnas[ :5]: \n",
    "    print(f'Cantidad de valores unicos de {col}: {len(habitantes[col].unique())}')\n",
    "    \n",
    "print()\n",
    "print('Valores unicos de EVE_CENSAL:', end = '\\n\\n')\n",
    "print(habitantes['EVE_CENSAL'].unique(), end = '\\n\\n')\n",
    "\n",
    "print('Valores unicos de FUENTE:', end = '\\n\\n')\n",
    "print(habitantes['FUENTE'].unique(), end = '\\n\\n')\n",
    "\n",
    "print('Valores unicos de INDICE_HAB:', end = '\\n\\n')\n",
    "print(len(habitantes['INDICE_HAB'].unique()), end = '\\n\\n')\n",
    "\n"
   ]
  },
  {
   "cell_type": "code",
   "execution_count": 8,
   "metadata": {},
   "outputs": [
    {
     "data": {
      "text/plain": [
       "2010    279187\n",
       "2020    275867\n",
       "2005    265585\n",
       "2000    255718\n",
       "1995    252784\n",
       "1990    173771\n",
       "1980    129895\n",
       "1970     98154\n",
       "1960     87878\n",
       "1950     75029\n",
       "1940     69733\n",
       "1930     57411\n",
       "1921     43851\n",
       "1910     41045\n",
       "1900     32605\n",
       "1939       179\n",
       "2            8\n",
       "1920         1\n",
       "2013         1\n",
       "Name: EVE_CENSAL, dtype: int64"
      ]
     },
     "execution_count": 8,
     "metadata": {},
     "output_type": "execute_result"
    }
   ],
   "source": [
    "# EVE_CENSAL\n",
    "\n",
    "#sorted(habitantes.EVE_CENSAL.unique().tolist()) # Lista de valores unicos\n",
    "habitantes.EVE_CENSAL.value_counts()            # Los eventos censales que menos\n",
    "                                                 # registros tienen son 1939, 1920, \n",
    "                                                 # y 2013\n"
   ]
  },
  {
   "cell_type": "code",
   "execution_count": 9,
   "metadata": {},
   "outputs": [],
   "source": [
    "# Analisis de regirstos con EVE_CENSAL 1939, 1920, 2 ,2013\n",
    "\n",
    "df_localidades_2 = habitantes.loc[habitantes['EVE_CENSAL'] == 2]\n",
    "df_localidades_1920 = habitantes.loc[habitantes['EVE_CENSAL'] == 1920]\n",
    "df_localidades_1939 = habitantes.loc[habitantes['EVE_CENSAL'] == 1939]\n",
    "df_localidades_2013 = habitantes.loc[habitantes['EVE_CENSAL'] == 2013]"
   ]
  },
  {
   "cell_type": "code",
   "execution_count": 44,
   "metadata": {},
   "outputs": [],
   "source": [
    "# EVE_CENSAL 2\n",
    "\n",
    "# Todos los valores de  EVE_CENSAL representan un año en el cual se realizó un\n",
    "# censo o conteo exepto el valor dos.\n",
    "\n",
    "#df_localidades_2['EVE_CENSAL'].value_counts()      # Son claves geoestadisticas \n",
    "                                                    # que solo aparecen comunidades de censos \n",
    "                                                    # recientes\n",
    "                                                    # el mas antiguo es 1990\n",
    "# df_localidades_2['TOT_HAB'].dtypes                # Existen varios tipos de datos mezclados\n",
    "                                                    # en la columna (numero entero y string)\n",
    "#df_localidades_2['TOT_HAB'].value_counts()         # La mayor parte de los valores es 0,\n",
    "                                                    # hay una comundad de 10 y otra de 6,\n",
    "                                                    # hay 4 valores indefinidos.\n",
    "\n",
    "#df_localidades_2"
   ]
  },
  {
   "cell_type": "code",
   "execution_count": 14,
   "metadata": {},
   "outputs": [],
   "source": [
    "# EVE_CENSAL 1920 y 2013 solo tiene un registro con todos los campos completos. \n",
    "\n",
    "#df_localidades_1920  \n",
    "#df_localidades_2013                # TOT_HAB, TOT_HOM, TOT_MUJ con valor 0                   "
   ]
  },
  {
   "cell_type": "code",
   "execution_count": 21,
   "metadata": {},
   "outputs": [],
   "source": [
    "# EVE_CENSAL 1939\n",
    "\n",
    "#df_localidades_1939.head()\n",
    "#len(df_localidades_1939)                           # 179 registros en total\n",
    "\n",
    "#df_localidades_1939[['TOT_HAB', 'TOT_HOM', 'TOT_MUJ']].value_counts()\n",
    "                                                    # Existen 196 sin valor en ninguna columna,\n",
    "                                                    # 9 con valor 0 en todas las columnas, y\n",
    "                                                    # un solo registro tiene valor 2, 1 1 en\n",
    "                                                    # TOT_HAB, TOT_HOM, TOT_MUJ"
   ]
  },
  {
   "cell_type": "code",
   "execution_count": null,
   "metadata": {},
   "outputs": [],
   "source": []
  },
  {
   "cell_type": "code",
   "execution_count": null,
   "metadata": {},
   "outputs": [],
   "source": [
    "#habitantes['TOT_HAB'] =pd.to_numeric(habitantes['TOT_HAB'], \n",
    "#                                     errors='coerce')\n",
    "\n",
    "#habitantes['TOT_HOM'] =pd.to_numeric(habitantes['TOT_HOM'], \n",
    "#                                     errors='coerce',\n",
    "#                                     downcast='integer')\n",
    "\n",
    "#habitantes['TOT_MUJ'] =pd.to_numeric(habitantes['TOT_MUJ'], \n",
    "#                                     errors='coerce',\n",
    "#                                     downcast='integer')"
   ]
  }
 ],
 "metadata": {
  "kernelspec": {
   "display_name": "base",
   "language": "python",
   "name": "python3"
  },
  "language_info": {
   "codemirror_mode": {
    "name": "ipython",
    "version": 3
   },
   "file_extension": ".py",
   "mimetype": "text/x-python",
   "name": "python",
   "nbconvert_exporter": "python",
   "pygments_lexer": "ipython3",
   "version": "3.9.12"
  },
  "orig_nbformat": 4
 },
 "nbformat": 4,
 "nbformat_minor": 2
}
