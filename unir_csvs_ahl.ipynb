{
 "cells": [
  {
   "cell_type": "markdown",
   "id": "591af6fa",
   "metadata": {},
   "source": [
    "# Archivo Historico de Localidades"
   ]
  },
  {
   "attachments": {},
   "cell_type": "markdown",
   "id": "99cb1dcf",
   "metadata": {},
   "source": [
    "En esta libreta se realizará una exploración inicial de los archivos y se unieran todos los registros que vienen divididos por estado en un solo CSV."
   ]
  },
  {
   "attachments": {},
   "cell_type": "markdown",
   "id": "d6c3b4f0",
   "metadata": {},
   "source": [
    "En General INEGI sigue las guias para compartir informacion internacionales que utilizan 'utf-8' como codificación estandar pero hay veces que los datos que ofrece tienen la codificación 'Windows-1252' (codigo 'cp1252') o 'Latin-1' (codigo 'latin-1'). Esto sucede generalmente cuando se manipulan y exportan los datos desde Excel o tal vez Access y es el caso de estos archivos. Los archivos unidos se exportaran en 'utf-8'."
   ]
  },
  {
   "attachments": {},
   "cell_type": "markdown",
   "id": "32070321",
   "metadata": {},
   "source": [
    "## Librerias y configuraciones"
   ]
  },
  {
   "cell_type": "code",
   "execution_count": 1,
   "id": "3463f14c",
   "metadata": {},
   "outputs": [],
   "source": [
    "# Librerias\n",
    "\n",
    "import os\n",
    "import shutil\n",
    "from zipfile import ZipFile\n",
    "import csv\n",
    "import random"
   ]
  },
  {
   "cell_type": "code",
   "execution_count": 2,
   "id": "afc4deef",
   "metadata": {},
   "outputs": [],
   "source": [
    "verbose = True  # Imprimir notas de ejecución"
   ]
  },
  {
   "attachments": {},
   "cell_type": "markdown",
   "id": "0e474d6e",
   "metadata": {},
   "source": [
    "## Contenido de los zips"
   ]
  },
  {
   "attachments": {},
   "cell_type": "markdown",
   "id": "c458bc25",
   "metadata": {},
   "source": [
    "El archivo base es un zip llamado 'AHL.zip' dentro de la carpeta 'Datos' que tiene un tamaño comprimido de 78 megabytes."
   ]
  },
  {
   "cell_type": "code",
   "execution_count": 3,
   "id": "34468914",
   "metadata": {},
   "outputs": [
    {
     "name": "stdout",
     "output_type": "stream",
     "text": [
      "Contenido de carpeta datos...\n",
      "['AHL.zip']\n",
      "Tamaño:\n",
      "78.002994 Mb\n"
     ]
    }
   ],
   "source": [
    "dir_datos = 'Datos'                                      # Sub-directorio del zip\n",
    "nom_archivo = 'AHL.zip'                                  # Nombre del zip\n",
    "ruta_zip_general = os.path.join(dir_datos, nom_archivo)          # Ruta del archivo zip\n",
    "\n",
    "\n",
    "if verbose:\n",
    "    print('Contenido de carpeta datos...')\n",
    "    print(os.listdir(dir_datos))\n",
    "    print('Tamaño:')\n",
    "    print(os.path.getsize(ruta_zip_general)/1_000_000, 'Mb')"
   ]
  },
  {
   "attachments": {},
   "cell_type": "markdown",
   "id": "6edb4239-2e89-4edf-b788-36fe882bbc62",
   "metadata": {},
   "source": [
    "Contiene 32 zips uno para cada estado de la republica) con 5 archivos cada uno:\n",
    "* Habitantes.csv\n",
    "* Maestro.csv\n",
    "* Movimientos.csv\n",
    "* Res_hist.csv\n",
    "* Estructura_Archivos_AHL.pdf (descriptor de los archivos CSV, es el mismo para todos Estados.)"
   ]
  },
  {
   "cell_type": "code",
   "execution_count": 4,
   "id": "564ca042",
   "metadata": {},
   "outputs": [
    {
     "name": "stdout",
     "output_type": "stream",
     "text": [
      "Numero de archivos en el zip prinicipal: 32\n",
      "\n",
      "Contenido del zip:\n",
      "\n",
      "['AHL01.zip', 'AHL02.zip', 'AHL03.zip', 'AHL04.zip', 'AHL05.zip', 'AHL06.zip', 'AHL07.zip', 'AHL08.zip', 'AHL09.zip', 'AHL10.zip', 'AHL11.zip', 'AHL12.zip', 'AHL13.zip', 'AHL14.zip', 'AHL15.zip', 'AHL16.zip', 'AHL17.zip', 'AHL18.zip', 'AHL19.zip', 'AHL20.zip', 'AHL21.zip', 'AHL22.zip', 'AHL23.zip', 'AHL24.zip', 'AHL25.zip', 'AHL26.zip', 'AHL27.zip', 'AHL28.zip', 'AHL29.zip', 'AHL30.zip', 'AHL31.zip', 'AHL32.zip']\n",
      "\n",
      "Contenido de los zips contenidos en AHL.zip:\n",
      "\n",
      "['AHL10Habitantes.csv', 'AHL10Maestro.csv', 'AHL10Movimientos.csv', 'AHL10Res_hist.csv', 'Estructura_Archivos_AHL.pdf']\n"
     ]
    }
   ],
   "source": [
    "# AHL.zip\n",
    "dir_extraccion = 'temp_ahl'  # Carpeta donde se van a descomprimir los archivos\n",
    "\n",
    "try:\n",
    "    os.mkdir(dir_extraccion)    \n",
    "\n",
    "except FileExistsError:\n",
    "    print(f'El directorio {dir_extraccion} ya existe...')\n",
    "\n",
    "with ZipFile(ruta_zip_general, 'r') as zip_file:\n",
    "    lista_zips = zip_file.namelist()\n",
    "\n",
    "    # Seleccionar y extraer un archivo aleatorio\n",
    "    zip_estatal = lista_zips[random.randint(0, len(lista_zips) - 1)]\n",
    "    zip_file.extract(zip_estatal, dir_extraccion)\n",
    "\n",
    "\n",
    "# Zip Estatal    \n",
    "nom_zip_estatal = zip_estatal[0:5]          # Nombre del zip sin extension\n",
    "dir_zip_estatal = os.path.join(dir_extraccion, nom_zip_estatal) # Directorio a crear\n",
    "ruta_zip_estatal = os.path.join(dir_extraccion, zip_estatal) # Ruta del zip\n",
    "try:\n",
    "    os.mkdir(dir_zip_estatal)     \n",
    "except FileExistsError:\n",
    "    print(f'El directorio {dir_zip_estatal} ya existe...')\n",
    "\n",
    "\n",
    "with ZipFile(ruta_zip_estatal) as info_estatal:\n",
    "    lista_estatal = info_estatal.namelist()\n",
    "    \n",
    "    # Extraer todos los archivos\n",
    "    info_estatal.extractall(dir_zip_estatal)\n",
    "    \n",
    "if verbose:\n",
    "    print(f'Numero de archivos en el zip prinicipal: {len(lista_zips)}', end = '\\n\\n' )\n",
    "    print('Contenido del zip:', end = '\\n\\n')\n",
    "    print(lista_zips, end = '\\n\\n')\n",
    "    print('Contenido de los zips contenidos en AHL.zip:', end = '\\n\\n')\n",
    "    print(lista_estatal)\n",
    "\n",
    "  "
   ]
  },
  {
   "cell_type": "code",
   "execution_count": 5,
   "id": "531c6396",
   "metadata": {},
   "outputs": [],
   "source": [
    "# Obtener muestra de CSVs\n",
    "muestra_csvs = {}\n",
    "temas = ['Habitantes','Maestro','Movimientos','Res_hist']\n",
    "\n",
    "for tema in temas:\n",
    "    nom_csv = nom_zip_estatal + tema + '.csv'\n",
    "    ruta_csv = os.path.join(dir_zip_estatal, nom_csv)\n",
    "    \n",
    "    try:\n",
    "        with open(ruta_csv, 'r', encoding=\"cp1252\") as row: # Se intento con utf-8 pero habia problemas\n",
    "            reader = csv.reader(row)\n",
    "            header = next(reader,'unix')\n",
    "            data_sample = next(reader)\n",
    "            muestra_csvs[tema] = {key:value for key,value in zip(header, data_sample)}\n",
    "        \n",
    "        \n",
    "        \n",
    "    except FileNotFoundError:\n",
    "        print(f'El archivo {nom_csv} no existe en la carpeta {nom_zip_estatal}...')\n",
    "\n",
    "    except UnicodeDecodeError:\n",
    "        print(\"Intenta otra codificiación. En general los archivos en México\",\n",
    "        \" estan codificados en utf-8 o cp1252.\")"
   ]
  },
  {
   "cell_type": "code",
   "execution_count": 6,
   "id": "53f3a817",
   "metadata": {},
   "outputs": [],
   "source": [
    "# Borrar carpeta temporal\n",
    "shutil.rmtree(dir_extraccion)"
   ]
  },
  {
   "attachments": {},
   "cell_type": "markdown",
   "id": "8d062478",
   "metadata": {},
   "source": [
    "En todas las tablas aparece la columna CVE_GEOEST. Habitantes y Movimientos comparten la Columna CLAVE. El resto de las columnas son unicas a las tablas que pertenecen. En algunas columnas existen valores nulos."
   ]
  },
  {
   "cell_type": "code",
   "execution_count": 7,
   "id": "1332ab9c",
   "metadata": {},
   "outputs": [
    {
     "name": "stdout",
     "output_type": "stream",
     "text": [
      "Muestra de Columna/Valor de CSV Habitantes:\n",
      "('CLAVE', '112305')\n",
      "('CVE_GEOEST', '100010001')\n",
      "('EVE_CENSAL', '1980')\n",
      "('INDICE_HAB', '15474324')\n",
      "('FUENTE', 'Censo')\n",
      "('TOT_HAB', '8,384')\n",
      "('TOT_HOM', '0')\n",
      "('TOT_MUJ', '0')\n",
      "\n",
      "Muestra de Columna/Valor de CSV Maestro:\n",
      "('CVE_GEOEST', '100020032')\n",
      "('LATITUD', '')\n",
      "('LONGITUD', '')\n",
      "('ALTITUD', '')\n",
      "('CARTA_TOPO', '')\n",
      "('TIPO', 'R')\n",
      "('NOMBRE_EDO', 'Durango')\n",
      "('NOMBRE_MUN', 'Canelas')\n",
      "\n",
      "Muestra de Columna/Valor de CSV Movimientos:\n",
      "('CLAVE', '5496110')\n",
      "('CVE_GEOEST', '100170070')\n",
      "('INDICE', '22')\n",
      "('NOM_LOC', 'Villa Orestes Pereyra (Rosario)')\n",
      "('NOM_MUN', 'Ocampo')\n",
      "('CAT_POLI', 'Ranchería')\n",
      "('CAT_ADMIVA', '')\n",
      "('ORI_MODIF', 'Censo de 2020.')\n",
      "\n",
      "Muestra de Columna/Valor de CSV i:\n",
      "('CVE_GEOEST', '100010001'...)\n",
      "('DATOS', 'Canatlán-   La palabra Canatlán viene del náhuatl '...)\n",
      "('DATOS_BIBLIOGRAFIA', 'Bibliografía:(1)  http://www.inafed.gob.mx/work/en'...)\n"
     ]
    }
   ],
   "source": [
    "if verbose:\n",
    "    for tema in temas[:3]:\n",
    "        print(f'Muestra de Columna/Valor de CSV {tema}:')\n",
    "        for item in muestra_csvs[tema].items(): print(item)\n",
    "        print()\n",
    "    \n",
    "    print(f'Muestra de Columna/Valor de CSV {tema[3]}:')\n",
    "    for key, value in muestra_csvs[temas[3]].items(): \n",
    "        reducido = value.replace('\\n', '')[:50]\n",
    "        print(f'(\\'{key}\\', \\'{reducido}\\'...)')"
   ]
  },
  {
   "attachments": {},
   "cell_type": "markdown",
   "id": "bae0044c",
   "metadata": {},
   "source": [
    "## Descomprimir csvs por tema"
   ]
  },
  {
   "attachments": {},
   "cell_type": "markdown",
   "id": "8b00a700",
   "metadata": {},
   "source": [
    " En esta sección se descomprimen los csvs en una carpeta llamada CSVs dentro de otra subcarpeta para cada tema."
   ]
  },
  {
   "attachments": {},
   "cell_type": "markdown",
   "id": "1ba938cd",
   "metadata": {},
   "source": [
    "### Funciones"
   ]
  },
  {
   "cell_type": "code",
   "execution_count": 8,
   "id": "5f134e68",
   "metadata": {},
   "outputs": [],
   "source": [
    "def extraer_archivo(ruta_zip, dir_extraccion, archivo_extraer, verbose = False):\n",
    "    \"\"\"\n",
    "    Función para extraer un archivo dentro de un zip a una ruta determinada.\n",
    "    predeterminada.\n",
    "    \n",
    "    :param ruta_zip: Ruta donde se encuentra zip en el cual se encuentra \n",
    "        el archivo.\n",
    "    :param dir_extraccion: Directorio donde se va a extraer el archivo.\n",
    "    :param archivo_extraer: Nombre del archivo a extraer.\n",
    "    :param verbose: Imprimir comentarios en procedimiento.\n",
    "    :return: No regresa nada, solo extrae archivos a pc.\n",
    "\n",
    "    \"\"\"\n",
    "    if verbose:\n",
    "        if not os.path.exists(dir_extraccion):\n",
    "            os.makedirs(dir_extraccion)\n",
    "            print(f'Creando directorio {dir_extraccion}')\n",
    "\n",
    "    ruta_archivo_extraer = os.path.join(dir_extraccion, archivo_extraer)\n",
    "\n",
    "\n",
    "    if verbose:\n",
    "        if os.path.exists(ruta_archivo_extraer):\n",
    "            print(f'El archivo {ruta_archivo_extraer} ya existe, sobreescribiendo...')\n",
    "        \n",
    "        else:\n",
    "            print(f'Descomprimiendo archivo {ruta_archivo_extraer}')\n",
    "\n",
    "\n",
    "    with ZipFile(ruta_zip, 'r') as zip_file:\n",
    "        zip_file.extract(archivo_extraer, dir_extraccion)\n"
   ]
  },
  {
   "cell_type": "code",
   "execution_count": 9,
   "id": "58b1a048",
   "metadata": {},
   "outputs": [],
   "source": [
    "\n",
    "\n",
    "def extraer_tema(dir_extraccion, tema,  dir_archivos, zipfile_list, verbose = False):\n",
    "    \"\"\"\n",
    "    Función para extraer un archivo dentro de un zip a una ruta determinada.\n",
    "    predeterminada.\n",
    "    \n",
    "    :param dir_extraccion: Directorio donde se van a extraer los archivos.\n",
    "    :param tema: Tema que se va a extraer, pueden ser cuatro:\n",
    "        Habitantes, Movimientos, Maestro, y Res_hist\n",
    "    :param dir_archivos: Directorio donde se encuentran los zips de los cuales\n",
    "        se va a extraer un tema.\n",
    "    :param zipfile_list: Lista de archivos zip donde se encuentran los csvs\n",
    "        por tema.\n",
    "    :param verbose: Imprimir comentarios en procedimiento.\n",
    "    \n",
    "    :return: No regresa nada, solo extrae archivos a pc de un tema en un\n",
    "        directorio determinado.\n",
    "    \"\"\"\n",
    "    dir_extraccion_tema = os.path.join(dir_extraccion, tema)\n",
    "    print(f'Descomprimiendo csvs de {tema} en {dir_extraccion_tema}', end='... ')\n",
    "    for zip_file in zipfile_list:\n",
    "        archivo_tema = zip_file[:5] + tema +'.csv'\n",
    "        ruta_zip_estatal = os.path.join(dir_archivos, zip_file)\n",
    "        extraer_archivo(ruta_zip_estatal, dir_extraccion_tema, archivo_tema, verbose = False)\n",
    "    print(f'Extraidos.')\n"
   ]
  },
  {
   "attachments": {},
   "cell_type": "markdown",
   "id": "8b7f0f28",
   "metadata": {},
   "source": [
    "### Implementación csvs por tema"
   ]
  },
  {
   "cell_type": "code",
   "execution_count": 10,
   "id": "34820a81",
   "metadata": {},
   "outputs": [],
   "source": [
    "ruta_zip_general = 'Datos\\AHL.zip'     # Variable ya definida creada anteriormente\n",
    "dir_extraccion_estatales = 'temp_zips_estatales' # Directorio temporal donde se extraen los zips estatales\n",
    "with ZipFile(ruta_zip_general, 'r') as zip_file:\n",
    "    zip_file.extractall(dir_extraccion_estatales)"
   ]
  },
  {
   "cell_type": "code",
   "execution_count": 11,
   "id": "8ed456e5",
   "metadata": {},
   "outputs": [
    {
     "name": "stdout",
     "output_type": "stream",
     "text": [
      "Descomprimiendo csvs de Habitantes en CSVs\\Habitantes... Extraidos.\n",
      "Descomprimiendo csvs de Maestro en CSVs\\Maestro... Extraidos.\n",
      "Descomprimiendo csvs de Movimientos en CSVs\\Movimientos... Extraidos.\n",
      "Descomprimiendo csvs de Res_hist en CSVs\\Res_hist... Extraidos.\n"
     ]
    }
   ],
   "source": [
    "# Los temas dentro de los zips son los siguientes: ['Habitantes', 'Maestro', 'Movimientos', 'Res_hist']\n",
    "dir_extraccion = 'CSVs'    # Carpeta donde se van a extraer los temas\n",
    "\n",
    "extraer_tema(dir_extraccion, 'Habitantes', dir_extraccion_estatales, lista_zips, verbose)\n",
    "extraer_tema(dir_extraccion, 'Maestro', dir_extraccion_estatales, lista_zips, verbose)\n",
    "extraer_tema(dir_extraccion, 'Movimientos', dir_extraccion_estatales, lista_zips, verbose)\n",
    "extraer_tema(dir_extraccion, 'Res_hist', dir_extraccion_estatales, lista_zips, verbose)"
   ]
  },
  {
   "attachments": {},
   "cell_type": "markdown",
   "id": "8eacaca2",
   "metadata": {},
   "source": [
    "## Unir csvs por tema"
   ]
  },
  {
   "attachments": {},
   "cell_type": "markdown",
   "id": "7a6685a1",
   "metadata": {},
   "source": [
    "Codigo para unir todos los csvs estatales en uno  solo."
   ]
  },
  {
   "attachments": {},
   "cell_type": "markdown",
   "id": "58b1ae60",
   "metadata": {},
   "source": [
    "### Funciones"
   ]
  },
  {
   "cell_type": "code",
   "execution_count": 12,
   "id": "12c9e498",
   "metadata": {},
   "outputs": [],
   "source": [
    "def unir_csvs(unido, a_unir, con_header = False, verbose = False):\n",
    "    \"\"\"\n",
    "    Función que lee un archivo csv y lo escribe en otro.\n",
    "    \n",
    "    :param unido: Archivo donde se va a anexar el csv.\n",
    "    :param a_unir: Archivo que se va a anexar al csv unido.\n",
    "    :param con_header: Nombre del csv que se va a extraer puede tener los valores de\n",
    "    :param verbose: True para imprimir información de lo que esta haciedo.\n",
    "\n",
    "    :return: No regresa nada, solo une csvs.\n",
    "\n",
    "    \"\"\"\n",
    "\n",
    "    with open(a_unir, 'r', encoding=\"cp1252\", errors='replace') as csv_a_unir:\n",
    "        doc_reader = csv.reader(csv_a_unir)\n",
    "\n",
    "        if con_header == True:\n",
    "            with open(unido, 'w', encoding='utf-8', errors='replace') as unido:\n",
    "                doc_writer = csv.writer(unido, lineterminator='\\n')\n",
    "                header = next(doc_reader)\n",
    "                doc_writer.writerow(header)\n",
    "\n",
    "                if verbose:\n",
    "                    print(f'Header agregado: {header}')\n",
    "\n",
    "                doc_writer.writerows(doc_reader)\n",
    "\n",
    "                if verbose:\n",
    "                    print(f'Filas de{a_unir} agregadas a {unido}.')\n",
    "\n",
    "        else:\n",
    "            header = next(doc_reader)\n",
    "            with open(unido, 'a', encoding='utf-8') as unido:\n",
    "                doc_writer = csv.writer(unido, lineterminator='\\n')\n",
    "                doc_writer.writerows(doc_reader)\n",
    "                if verbose:\n",
    "                    print(f'Filas de{a_unir} agregadas a {unido}.')"
   ]
  },
  {
   "cell_type": "code",
   "execution_count": 13,
   "id": "64379534",
   "metadata": {},
   "outputs": [],
   "source": [
    "def unir_tema(ruta_csv, dir_carpeta, tema, verbose = False):\n",
    "    \"\"\"\n",
    "    Función para extraer un archivo dentro de un zip a una ruta determinada.\n",
    "    predeterminada.\n",
    "\n",
    "    :param ruta_csv: Ruta del archivo donde se van a unir los csvs.\n",
    "    :param dir_carpeta: Directorio donde se encuentra la carpeta.\n",
    "    :param tema: Nombre con la carpeta con los csvs del tema.\n",
    "\n",
    "    :return: No regresa nada, solo extrae archivos a pc de un tema en un\n",
    "        directorio determinado.\n",
    "    \"\"\"\n",
    "    if os.path.exists(ruta_csv):\n",
    "        print(f'El archivo {ruta_csv} ya existe... borrandolo')\n",
    "        os.remove(ruta_csv)\n",
    "\n",
    "    con_header = True\n",
    "    dir_tema = os.path.join(dir_carpeta, tema)\n",
    "    csvs_a_unir = os.listdir(dir_tema)\n",
    "\n",
    "    if verbose:\n",
    "        print(f'Uniendo archivos de la carpeta {tema}', end = '... ')\n",
    "        \n",
    "    for csv in csvs_a_unir:\n",
    "        ruta_csv_a_unir = os.path.join(dir_tema, csv)\n",
    "        #print(ruta_csv, ruta_csv_a_unir, con_header, verbose) \n",
    "  \n",
    "        unir_csvs(ruta_csv, ruta_csv_a_unir, con_header, verbose=False)\n",
    "\n",
    "        con_header = False # Para solo copiar los encabezados del primer csv.\n",
    "\n",
    "    if verbose:\n",
    "        print(f'Unidos en {ruta_csv}')\n",
    "\n",
    "\n"
   ]
  },
  {
   "attachments": {},
   "cell_type": "markdown",
   "id": "8a5e2e14",
   "metadata": {},
   "source": [
    "### Implementación unir csvs por tema"
   ]
  },
  {
   "cell_type": "code",
   "execution_count": 14,
   "id": "f2471a19",
   "metadata": {},
   "outputs": [
    {
     "name": "stdout",
     "output_type": "stream",
     "text": [
      "El archivo CSVs\\habitantes.csv ya existe... borrandolo\n",
      "Uniendo archivos de la carpeta Habitantes... Unidos en CSVs\\habitantes.csv\n",
      "El archivo CSVs\\maestro.csv ya existe... borrandolo\n",
      "Uniendo archivos de la carpeta Maestro... Unidos en CSVs\\maestro.csv\n",
      "El archivo CSVs\\movimientos.csv ya existe... borrandolo\n",
      "Uniendo archivos de la carpeta Movimientos... Unidos en CSVs\\movimientos.csv\n",
      "El archivo CSVs\\res_hist.csv ya existe... borrandolo\n",
      "Uniendo archivos de la carpeta Res_hist... Unidos en CSVs\\res_hist.csv\n"
     ]
    }
   ],
   "source": [
    "# Unir los temas en carpeta csv.\n",
    "# Existen errores de codificacion en los archivos 25 y 32 \n",
    "# que se reemplazaron por ? con el parametro errors = 'replace'\n",
    "# en la función unir_csvs.\n",
    "\n",
    "unir_tema('CSVs\\habitantes.csv', 'CSVs', 'Habitantes', verbose)\n",
    "unir_tema('CSVs\\maestro.csv', 'CSVs', 'Maestro', verbose)\n",
    "unir_tema('CSVs\\movimientos.csv', 'CSVs', 'Movimientos', verbose)\n",
    "unir_tema(r'CSVs\\res_hist.csv', 'CSVs', 'Res_hist', verbose) # tiene r antes del string para que\n",
    "                                                             # /r se interprete bien\n"
   ]
  },
  {
   "cell_type": "code",
   "execution_count": 15,
   "id": "34363825",
   "metadata": {},
   "outputs": [
    {
     "name": "stdout",
     "output_type": "stream",
     "text": [
      "Tamaño de habitantes.csv: 98.951205 megabytes\n",
      "Numero de registros: 2138702\n",
      "Tamaño de maestro.csv: 33.13731 megabytes\n",
      "Numero de registros: 409446\n",
      "Tamaño de movimientos.csv: 221.355535 megabytes\n",
      "Numero de registros: 3565344\n",
      "Tamaño de res_hist.csv: 13.379794 megabytes\n",
      "Numero de registros: 198847\n"
     ]
    }
   ],
   "source": [
    "\n",
    "for tema in temas:\n",
    "    csv_general = tema.lower() + '.csv'\n",
    "    ruta = os.path.join('CSVs', csv_general)\n",
    "    print(f'Tamaño de {csv_general}:', end = ' ')\n",
    "    print(os.stat(ruta).st_size / 1000000, 'megabytes')\n",
    "    with open(ruta, 'r') as csv_tema:\n",
    "        num_lineas = len(csv_tema.readlines()) - 1\n",
    "        print(f'Numero de registros: {num_lineas}')"
   ]
  },
  {
   "cell_type": "code",
   "execution_count": 16,
   "id": "06edca37",
   "metadata": {},
   "outputs": [],
   "source": [
    "# Borrar carpeta con los zips estatales\n",
    "shutil.rmtree(dir_extraccion_estatales)\n",
    "\n",
    "# Borrar carpeta de csvs estatales\n",
    "shutil.rmtree('CSVs/Habitantes/')\n",
    "shutil.rmtree('CSVs/Maestro/')\n",
    "shutil.rmtree('CSVs/Movimientos/')\n",
    "shutil.rmtree('CSVs/Res_hist/')"
   ]
  },
  {
   "cell_type": "code",
   "execution_count": null,
   "id": "d099ba4c",
   "metadata": {},
   "outputs": [],
   "source": []
  }
 ],
 "metadata": {
  "kernelspec": {
   "display_name": "Python 3.9.12 ('base')",
   "language": "python",
   "name": "python3"
  },
  "language_info": {
   "codemirror_mode": {
    "name": "ipython",
    "version": 3
   },
   "file_extension": ".py",
   "mimetype": "text/x-python",
   "name": "python",
   "nbconvert_exporter": "python",
   "pygments_lexer": "ipython3",
   "version": "3.9.13"
  },
  "vscode": {
   "interpreter": {
    "hash": "6afe7e267b9ba88bffeda2619d27c3cb5e96fca6caeba51772f3019486e6bf34"
   }
  }
 },
 "nbformat": 4,
 "nbformat_minor": 5
}
