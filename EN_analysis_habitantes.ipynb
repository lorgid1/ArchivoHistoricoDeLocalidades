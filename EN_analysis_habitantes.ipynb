{
 "cells": [
  {
   "attachments": {},
   "cell_type": "markdown",
   "metadata": {},
   "source": [
    "# Habitantes Table"
   ]
  },
  {
   "attachments": {},
   "cell_type": "markdown",
   "metadata": {},
   "source": [
    "The Historical Archive of Localities (AHL) is an INEGI database with records of the different censuses and counts that have been carried out in the Mexican Republic from the year 1900 to date. The population data of the set is contained in the Habitantes table. This notebook will lood at hte data it contains.\n"
   ]
  },
  {
   "attachments": {},
   "cell_type": "markdown",
   "metadata": {},
   "source": [
    "## Libraries and Configurations"
   ]
  },
  {
   "cell_type": "code",
   "execution_count": 2,
   "metadata": {},
   "outputs": [],
   "source": [
    "import pandas as pd\n",
    "import numpy as np"
   ]
  },
  {
   "cell_type": "code",
   "execution_count": 3,
   "metadata": {},
   "outputs": [],
   "source": [
    "verbose = True"
   ]
  },
  {
   "attachments": {},
   "cell_type": "markdown",
   "metadata": {},
   "source": [
    "## Overview"
   ]
  },
  {
   "attachments": {},
   "cell_type": "markdown",
   "metadata": {},
   "source": [
    "CVE_GEOEST is the field shared by all AHL tables. It represents the geostatistical key for a specific locality. Sometimes there are problems in importing it because they are only numeric characters. The column must be treated as text. If it is imported as a number then the '0' at the beginning of some keys is lost (eg '010010001' will be imported as 10010001) and the key format will be lost."
   ]
  },
  {
   "cell_type": "code",
   "execution_count": 4,
   "metadata": {},
   "outputs": [],
   "source": [
    "# Define problematic columns\n",
    "\n",
    "tipo_columnas = {'CVE_GEOEST': str}"
   ]
  },
  {
   "cell_type": "code",
   "execution_count": 5,
   "metadata": {},
   "outputs": [],
   "source": [
    "# Import file\n",
    "habitantes = pd.read_csv('CSVs/habitantes.csv', dtype=tipo_columnas)"
   ]
  },
  {
   "cell_type": "code",
   "execution_count": 6,
   "metadata": {},
   "outputs": [],
   "source": [
    "# Remove the '#' to procces the line of code.\n",
    "# General info\n",
    "\n",
    "#habitantes.memory_usage().sum() / 1_000_000  # File is 150 megas\n",
    "#habitantes.info(show_counts = True)          # There are no null values\n",
    "#habitantes.columns                           # Column names\n",
    "#habitantes[['TOT_HAB', 'TOT_HOM', 'TOT_MUJ']].describe() \n",
    "                                              # Column statistics\n",
    "                     \n"
   ]
  },
  {
   "attachments": {},
   "cell_type": "markdown",
   "metadata": {},
   "source": [
    "CVE_GEOEST is made up of 9 numeric characters. The first two represent the state code ('01'), the next three characters represent the municipality ('001'), and the last four numbers represent the locality code ('0001')."
   ]
  },
  {
   "attachments": {},
   "cell_type": "markdown",
   "metadata": {},
   "source": [
    "The order in wich the States are numbered is in alphabetical order. The municipalities and localities are not because when new records are created the numbering is not reset. There is only one nomenclature rule for the localities, the key '0001' will always represent the municipal seat (cabecera municipal) and is where the local government resides."
   ]
  },
  {
   "cell_type": "code",
   "execution_count": 7,
   "metadata": {},
   "outputs": [
    {
     "data": {
      "text/html": [
       "<div>\n",
       "<style scoped>\n",
       "    .dataframe tbody tr th:only-of-type {\n",
       "        vertical-align: middle;\n",
       "    }\n",
       "\n",
       "    .dataframe tbody tr th {\n",
       "        vertical-align: top;\n",
       "    }\n",
       "\n",
       "    .dataframe thead th {\n",
       "        text-align: right;\n",
       "    }\n",
       "</style>\n",
       "<table border=\"1\" class=\"dataframe\">\n",
       "  <thead>\n",
       "    <tr style=\"text-align: right;\">\n",
       "      <th></th>\n",
       "      <th>CLAVE</th>\n",
       "      <th>CVE_GEOEST</th>\n",
       "      <th>EVE_CENSAL</th>\n",
       "      <th>INDICE_HAB</th>\n",
       "      <th>FUENTE</th>\n",
       "      <th>TOT_HAB</th>\n",
       "      <th>TOT_HOM</th>\n",
       "      <th>TOT_MUJ</th>\n",
       "    </tr>\n",
       "  </thead>\n",
       "  <tbody>\n",
       "    <tr>\n",
       "      <th>0</th>\n",
       "      <td>1</td>\n",
       "      <td>010010001</td>\n",
       "      <td>1940</td>\n",
       "      <td>14962331</td>\n",
       "      <td>Censo</td>\n",
       "      <td>82,234</td>\n",
       "      <td>37,821</td>\n",
       "      <td>44,413</td>\n",
       "    </tr>\n",
       "    <tr>\n",
       "      <th>1</th>\n",
       "      <td>1</td>\n",
       "      <td>010010001</td>\n",
       "      <td>1930</td>\n",
       "      <td>14962332</td>\n",
       "      <td>Censo</td>\n",
       "      <td>62,244</td>\n",
       "      <td>28,687</td>\n",
       "      <td>33,557</td>\n",
       "    </tr>\n",
       "    <tr>\n",
       "      <th>2</th>\n",
       "      <td>1</td>\n",
       "      <td>010010001</td>\n",
       "      <td>1900</td>\n",
       "      <td>14962333</td>\n",
       "      <td>Censo</td>\n",
       "      <td>35,052</td>\n",
       "      <td>16,229</td>\n",
       "      <td>18,823</td>\n",
       "    </tr>\n",
       "    <tr>\n",
       "      <th>3</th>\n",
       "      <td>1</td>\n",
       "      <td>010010001</td>\n",
       "      <td>1970</td>\n",
       "      <td>14962334</td>\n",
       "      <td>Censo</td>\n",
       "      <td>181,277</td>\n",
       "      <td>-</td>\n",
       "      <td>-</td>\n",
       "    </tr>\n",
       "    <tr>\n",
       "      <th>4</th>\n",
       "      <td>1</td>\n",
       "      <td>010010001</td>\n",
       "      <td>2005</td>\n",
       "      <td>14962335</td>\n",
       "      <td>Conteo</td>\n",
       "      <td>663,671</td>\n",
       "      <td>319,649</td>\n",
       "      <td>344,022</td>\n",
       "    </tr>\n",
       "  </tbody>\n",
       "</table>\n",
       "</div>"
      ],
      "text/plain": [
       "   CLAVE CVE_GEOEST  EVE_CENSAL  INDICE_HAB  FUENTE  TOT_HAB  TOT_HOM  TOT_MUJ\n",
       "0      1  010010001        1940    14962331   Censo   82,234   37,821   44,413\n",
       "1      1  010010001        1930    14962332   Censo   62,244   28,687   33,557\n",
       "2      1  010010001        1900    14962333   Censo   35,052   16,229   18,823\n",
       "3      1  010010001        1970    14962334   Censo  181,277        -        -\n",
       "4      1  010010001        2005    14962335  Conteo  663,671  319,649  344,022"
      ]
     },
     "execution_count": 7,
     "metadata": {},
     "output_type": "execute_result"
    }
   ],
   "source": [
    "# Record example\n",
    "habitantes.head()"
   ]
  },
  {
   "attachments": {},
   "cell_type": "markdown",
   "metadata": {},
   "source": [
    "The column CLAVE has the same number of unique values ​​as CVE_GEOEST, both columns have repeated values. CLAVE will have the same value for each CVE_GEOEST. INDICE_HAB is a unique value for each of the records in the table."
   ]
  },
  {
   "attachments": {},
   "cell_type": "markdown",
   "metadata": {},
   "source": [
    "TOT_HAB (Total inhabitants), TOT_HOM (Total men), and TOT_MUJ (Total women) contain numerical values ​​that represent number of people. There are some fields that do not have numerical information, so the type of information inside the column is defined as an object and not as an integer."
   ]
  },
  {
   "attachments": {},
   "cell_type": "markdown",
   "metadata": {},
   "source": [
    "The values in FUENTE represent de diferent tipes of census event."
   ]
  },
  {
   "cell_type": "code",
   "execution_count": 8,
   "metadata": {},
   "outputs": [],
   "source": [
    "#CVE_GEOEST y CLAVE\n",
    "#len(habitantes)                                # CSV contains 2138702 records\n",
    "#len(habitantes.CVE_GEOEST.unique())            # There 408754 unique values in CVE_GEOEST\n",
    "#habitantes.CVE_GEOEST.value_counts().max()     # Max frequency of a value is 16\n",
    "#habitantes.CVE_GEOEST.value_counts().min()     # Min frequency of a value is 1\n",
    "\n",
    "#set([len(clave) for clave in habitantes.CVE_GEOEST])   # All keys are 9 characters long\n",
    "\n",
    "\n",
    "#len((habitantes['CVE_GEOEST'] + habitantes['CLAVE'].apply(str)).unique())\n",
    "                                                # If you concatenate CLAVE with CVE_GEOEST\n",
    "                                                # the number of unique values is the same (408754). \n",
    "                                                # This means that the value of clave is the same for\n",
    "                                                # each value in CVE_GEOEST\n",
    "#habitantes['INDICE_HAB'].is_unique             # INDICE_HAB is a unique value for every record\n",
    "\n"
   ]
  },
  {
   "cell_type": "code",
   "execution_count": 9,
   "metadata": {},
   "outputs": [
    {
     "name": "stdout",
     "output_type": "stream",
     "text": [
      "Number of records in habitantes: 2138702\n",
      "\n",
      "Number of unique values in CLAVE: 408754\n",
      "Number of unique values in CVE_GEOEST: 408754\n",
      "Number of unique values in EVE_CENSAL: 19\n",
      "Number of unique values in INDICE_HAB: 2138702\n",
      "Number of unique values in FUENTE: 2\n",
      "\n",
      "Unique values of EVE_CENSAL:\n",
      "\n",
      "[1940 1930 1900 1970 2005 1995 1950 2020 1960 2010 1910 2000 1980 1990\n",
      " 1921 1939 1920    2 2013]\n",
      "\n",
      "Unique values of FUENTE:\n",
      "\n",
      "['Censo' 'Conteo']\n",
      "\n",
      "Unique values of INDICE_HAB:\n",
      "\n",
      "2138702\n",
      "\n"
     ]
    }
   ],
   "source": [
    "lista_columnas = habitantes.columns.values.tolist()\n",
    "\n",
    "print(f'Number of records in habitantes: {len(habitantes)}', end = '\\n\\n')\n",
    "\n",
    "for col in lista_columnas[ :5]: \n",
    "    print(f'Number of unique values in {col}: {len(habitantes[col].unique())}')\n",
    "    \n",
    "print()\n",
    "print('Unique values of EVE_CENSAL:', end = '\\n\\n')\n",
    "print(habitantes['EVE_CENSAL'].unique(), end = '\\n\\n')\n",
    "\n",
    "print('Unique values of FUENTE:', end = '\\n\\n')\n",
    "print(habitantes['FUENTE'].unique(), end = '\\n\\n')\n",
    "\n",
    "print('Unique values of INDICE_HAB:', end = '\\n\\n')\n",
    "print(len(habitantes['INDICE_HAB'].unique()), end = '\\n\\n')\n",
    "\n"
   ]
  },
  {
   "cell_type": "code",
   "execution_count": 10,
   "metadata": {},
   "outputs": [
    {
     "data": {
      "text/plain": [
       "2010    279187\n",
       "2020    275867\n",
       "2005    265585\n",
       "2000    255718\n",
       "1995    252784\n",
       "1990    173771\n",
       "1980    129895\n",
       "1970     98154\n",
       "1960     87878\n",
       "1950     75029\n",
       "1940     69733\n",
       "1930     57411\n",
       "1921     43851\n",
       "1910     41045\n",
       "1900     32605\n",
       "1939       179\n",
       "2            8\n",
       "1920         1\n",
       "2013         1\n",
       "Name: EVE_CENSAL, dtype: int64"
      ]
     },
     "execution_count": 10,
     "metadata": {},
     "output_type": "execute_result"
    }
   ],
   "source": [
    "# EVE_CENSAL\n",
    "\n",
    "#sorted(habitantes.EVE_CENSAL.unique().tolist()) # Unique value list\n",
    "habitantes.EVE_CENSAL.value_counts()            # Census events with less records are\n",
    "                                                 # from 1939, 1920, \n",
    "                                                 # y 2013\n"
   ]
  },
  {
   "cell_type": "code",
   "execution_count": 11,
   "metadata": {},
   "outputs": [],
   "source": [
    "# Record analisis of records with EVE_CENSAL  values: 1939, 1920, 2, 2013\n",
    "\n",
    "# Make dataframes of specific census events\n",
    "df_localidades_2 = habitantes.loc[habitantes['EVE_CENSAL'] == 2]\n",
    "df_localidades_1920 = habitantes.loc[habitantes['EVE_CENSAL'] == 1920]\n",
    "df_localidades_1939 = habitantes.loc[habitantes['EVE_CENSAL'] == 1939]\n",
    "df_localidades_2013 = habitantes.loc[habitantes['EVE_CENSAL'] == 2013]"
   ]
  },
  {
   "cell_type": "code",
   "execution_count": 22,
   "metadata": {},
   "outputs": [],
   "source": [
    "# EVE_CENSAL 2\n",
    "\n",
    "# All the values ​​of EVE_CENSAL represent a year in which a census or count was carried out, \n",
    "# except value 2.\n",
    "\n",
    "#df_localidades_2['EVE_CENSAL'].value_counts()      # They are geoestatistical keys \n",
    "                                                    # that only apear in recent census.\n",
    "                                                    # The oldest census is in the year 1900.\n",
    "# df_localidades_2['TOT_HAB'].dtypes                # The data in this column is of type\n",
    "                                                    # integer and strig.\n",
    "#len(df_localidades_2)                              # There are 8 registries\n",
    "#df_localidades_2                                    # Whith a value of 0\n"
   ]
  },
  {
   "cell_type": "code",
   "execution_count": 25,
   "metadata": {},
   "outputs": [],
   "source": [
    "# EVE_CENSAL 1920 y 2013 only have one record each.\n",
    "\n",
    "#df_localidades_1920  \n",
    "#df_localidades_2013                # TOT_HAB, TOT_HOM, TOT_MUJ with a value of 0                 "
   ]
  },
  {
   "cell_type": "code",
   "execution_count": 27,
   "metadata": {},
   "outputs": [],
   "source": [
    "# EVE_CENSAL 1939\n",
    "\n",
    "#df_localidades_1939.head()\n",
    "#len(df_localidades_1939)                           # 179 records in total\n",
    "\n",
    "#df_localidades_1939[['TOT_HAB', 'TOT_HOM', 'TOT_MUJ']].value_counts()\n",
    "                                                    # 196 without values in any column\n",
    "                                                    # 9 with a value of 0 in all the columns\n",
    "                                                    # Only one record has the values 2, 1 1 in\n",
    "                                                    # TOT_HAB, TOT_HOM, TOT_MUJ"
   ]
  },
  {
   "cell_type": "code",
   "execution_count": 13,
   "metadata": {},
   "outputs": [],
   "source": [
    "#habitantes['TOT_HAB'] =pd.to_numeric(habitantes['TOT_HAB'], \n",
    "#                                     errors='coerce')\n",
    "\n",
    "#habitantes['TOT_HOM'] =pd.to_numeric(habitantes['TOT_HOM'], \n",
    "#                                     errors='coerce',\n",
    "#                                     downcast='integer')\n",
    "\n",
    "#habitantes['TOT_MUJ'] =pd.to_numeric(habitantes['TOT_MUJ'], \n",
    "#                                     errors='coerce',\n",
    "#                                     downcast='integer')"
   ]
  }
 ],
 "metadata": {
  "kernelspec": {
   "display_name": "base",
   "language": "python",
   "name": "python3"
  },
  "language_info": {
   "codemirror_mode": {
    "name": "ipython",
    "version": 3
   },
   "file_extension": ".py",
   "mimetype": "text/x-python",
   "name": "python",
   "nbconvert_exporter": "python",
   "pygments_lexer": "ipython3",
   "version": "3.10.9"
  },
  "orig_nbformat": 4
 },
 "nbformat": 4,
 "nbformat_minor": 2
}
