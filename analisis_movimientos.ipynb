{
 "cells": [
  {
   "cell_type": "code",
   "execution_count": 2,
   "metadata": {},
   "outputs": [],
   "source": [
    "import os\n",
    "import pandas as pd"
   ]
  },
  {
   "cell_type": "code",
   "execution_count": 3,
   "metadata": {},
   "outputs": [],
   "source": [
    "# Definir el tipo de columnas a importar\n",
    "dtype_columnas = {\n",
    "    'CLAVE' : 'int64',\n",
    "    'CVE_GEOEST' : 'string',\n",
    "    'INDICE' : 'int64',\n",
    "    'NOM_LOC' : 'string',\n",
    "    'NOM_MUN' : 'string',\n",
    "    'CAT_POLI' : 'string',\n",
    "    'CAT_ADMIVA'   : 'string',\n",
    "    'ORI_MODIF' : 'string' \n",
    "}"
   ]
  },
  {
   "cell_type": "code",
   "execution_count": 4,
   "metadata": {},
   "outputs": [],
   "source": [
    "# Importar CSV\n",
    "\n",
    "movimientos = pd.read_csv('CSVs/movimientos.csv', dtype= dtype_columnas)"
   ]
  },
  {
   "cell_type": "code",
   "execution_count": 97,
   "metadata": {},
   "outputs": [],
   "source": [
    "# Información General\n",
    "\n",
    "#movimientos.dtypes                     # Tipos de columna\n",
    "#movimientos.columns                    # Columnas\n",
    "#movimientos.count                      # Numero de registros\n",
    "#movimientos.info(show_counts=True)     # Info general"
   ]
  },
  {
   "cell_type": "code",
   "execution_count": 15,
   "metadata": {},
   "outputs": [],
   "source": [
    "# Columna CLAVE\n",
    "\n",
    "#movimientos.CLAVE.is_unique        # Contiene valores unicos"
   ]
  },
  {
   "cell_type": "code",
   "execution_count": 24,
   "metadata": {},
   "outputs": [],
   "source": [
    "# Columna CVE_GEOEST\n",
    "\n",
    "#movimientos.CVE_GEOEST.is_unique                       # No contiene valores unicos\n",
    "#max(movimientos.CVE_GEOEST.value_counts())             # CVE_GEOEST que mas se repite 24 veces\n",
    "#min(movimientos.CVE_GEOEST.value_counts())             # CVE_GEOEST que menos se repite 1 vez\n",
    "#movimientos.CVE_GEOEST.value_counts()                  # CVE_GEOEST que mas se reptite es 300130002\n",
    "#movimientos.CVE_GEOEST.value_counts().value_counts()   # Frecuencia de repeticiones"
   ]
  },
  {
   "cell_type": "code",
   "execution_count": 34,
   "metadata": {},
   "outputs": [],
   "source": [
    "# Columna INDICE\n",
    "\n",
    "#movimientos.INDICE.is_unique                       # No contiene valores unicos\n",
    "#max(movimientos.INDICE.value_counts())             # INDICE que mas se repite 409446\n",
    "#min(movimientos.INDICE.value_counts())             # INDICE que menos se repite lo hace una vez\n",
    "#movimientos.INDICE.value_counts()                  # INDICE que mas se reptite es 1 seguido cerca del 2"
   ]
  },
  {
   "cell_type": "code",
   "execution_count": 27,
   "metadata": {},
   "outputs": [],
   "source": [
    "# Columna NOM_LOC\n",
    "\n",
    "#movimientos.NOM_LOC.is_unique                       # No contiene valores unicos\n",
    "#max(movimientos.NOM_LOC.value_counts())             # NOM_LOC que mas se repite lo hace 9721\n",
    "#min(movimientos.NOM_LOC.value_counts())             # NOM_LOC que menos se repite 1 vez\n",
    "#movimientos.NOM_LOC.value_counts()                  # El nombre que mas se repite es San Antonio\n",
    "#movimientos.NOM_LOC.value_counts().value_counts()   # Frecuencia de repeticiones"
   ]
  },
  {
   "cell_type": "code",
   "execution_count": 58,
   "metadata": {},
   "outputs": [],
   "source": [
    "# Columna NOM_MUN\n",
    "\n",
    "#movimientos.NOM_MUN.is_unique                       # No contiene valores unicos\n",
    "#max(movimientos.NOM_MUN.value_counts())             # NOM_MUN que mas se repite lo hace 20739\n",
    "#min(movimientos.NOM_MUN.value_counts())             # NOM_MUN que menos se repite 1 vez\n",
    "#movimientos.NOM_MUN.value_counts()                  # El nombre que mas se repite es Ensenada seguido de Mexicalli\n",
    "#len(movimientos[movimientos.NOM_MUN.isnull()])      # Hay 34 registros donde no se registra municipio\n",
    "#movimientos[movimientos.NOM_MUN.isnull()].head(3)   # Todas tienen CVE_GEOEST de donde se puede obtener el mun\n",
    "#movimientos[movimientos.NOM_MUN.isnull()]['ORI_MODIF'].value_counts()\n",
    "                                                     # Valores unicos de la columna ORI_MODIF"
   ]
  },
  {
   "cell_type": "code",
   "execution_count": 65,
   "metadata": {},
   "outputs": [],
   "source": [
    "# Columna CAT_POLI\n",
    "\n",
    "#movimientos.CAT_POLI.is_unique                       # No contiene valores unicos\n",
    "#max(movimientos.CAT_POLI.value_counts())             # CAT_POLI que mas se repite 1590564\n",
    "#min(movimientos.CAT_POLI.value_counts())             # CAT_POLI que menos se repite lo hace una vez\n",
    "#movimientos.CAT_POLI.value_counts()                  # CAT_POLI que mas se reptite es Indefinida\n",
    "#movimientos[movimientos.CAT_POLI.isnull()]           # Existe un registro donde hay valor nulo"
   ]
  },
  {
   "cell_type": "code",
   "execution_count": 96,
   "metadata": {},
   "outputs": [],
   "source": [
    "# Columna CAT_POLI\n",
    "\n",
    "#movimientos.CAT_ADMIVA.is_unique                   # No contiene valores unicos\n",
    "#max(movimientos.CAT_ADMIVA.value_counts())         # CAT_ADMIVA que mas se repite 6800\n",
    "#min(movimientos.CAT_ADMIVA.value_counts())         # CAT_ADMIVA que menos se repite lo hace dos veces\n",
    "#movimientos.CAT_ADMIVA.value_counts()              # CAT_ADMIVA que mas se reptite es Delegación\n",
    "#movimientos['CAT_ADMIVA'].isnull().sum()           # Existen 2419988 registros con valores nulos\n",
    "#movimientos['CAT_ADMIVA'].notnull().sum()          # 20541 registros tienen valor\n",
    "#movimientos[movimientos.CAT_ADMIVA.isin([' '])].head(5)  # 106 registros tienen un espacio vacio como valor en CAT_ADMIVA"
   ]
  },
  {
   "cell_type": "code",
   "execution_count": null,
   "metadata": {},
   "outputs": [],
   "source": []
  }
 ],
 "metadata": {
  "kernelspec": {
   "display_name": "base",
   "language": "python",
   "name": "python3"
  },
  "language_info": {
   "codemirror_mode": {
    "name": "ipython",
    "version": 3
   },
   "file_extension": ".py",
   "mimetype": "text/x-python",
   "name": "python",
   "nbconvert_exporter": "python",
   "pygments_lexer": "ipython3",
   "version": "3.9.12"
  },
  "orig_nbformat": 4
 },
 "nbformat": 4,
 "nbformat_minor": 2
}
